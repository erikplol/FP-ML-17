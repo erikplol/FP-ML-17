{
 "cells": [
  {
   "cell_type": "markdown",
   "id": "b52d64d4",
   "metadata": {
    "papermill": {
     "duration": 0.011143,
     "end_time": "2024-08-01T05:25:45.078676",
     "exception": false,
     "start_time": "2024-08-01T05:25:45.067533",
     "status": "completed"
    },
    "tags": []
   },
   "source": [
    "# Necessary imports"
   ]
  },
  {
   "cell_type": "code",
   "execution_count": 2,
   "id": "8b422b57",
   "metadata": {},
   "outputs": [
    {
     "name": "stdout",
     "output_type": "stream",
     "text": [
      "Requirement already satisfied: transformers in ./.venv/lib/python3.12/site-packages (from -r requirements.txt (line 1)) (4.52.4)\n",
      "Requirement already satisfied: torch in ./.venv/lib/python3.12/site-packages (from -r requirements.txt (line 2)) (2.7.1)\n",
      "Requirement already satisfied: pandas in ./.venv/lib/python3.12/site-packages (from -r requirements.txt (line 3)) (2.3.0)\n",
      "Requirement already satisfied: numpy in ./.venv/lib/python3.12/site-packages (from -r requirements.txt (line 4)) (2.1.3)\n",
      "Requirement already satisfied: tqdm in ./.venv/lib/python3.12/site-packages (from -r requirements.txt (line 5)) (4.67.1)\n",
      "Requirement already satisfied: matplotlib in ./.venv/lib/python3.12/site-packages (from -r requirements.txt (line 6)) (3.10.3)\n",
      "Requirement already satisfied: scikit-learn in ./.venv/lib/python3.12/site-packages (from -r requirements.txt (line 7)) (1.7.0)\n",
      "Requirement already satisfied: nltk in ./.venv/lib/python3.12/site-packages (from -r requirements.txt (line 8)) (3.9.1)\n",
      "Requirement already satisfied: seaborn in ./.venv/lib/python3.12/site-packages (from -r requirements.txt (line 9)) (0.13.2)\n",
      "Requirement already satisfied: emoji in ./.venv/lib/python3.12/site-packages (from -r requirements.txt (line 10)) (2.14.1)\n",
      "Requirement already satisfied: keras>=2.12 in ./.venv/lib/python3.12/site-packages (from -r requirements.txt (line 11)) (3.10.0)\n",
      "Requirement already satisfied: tensorflow>=2.12 in ./.venv/lib/python3.12/site-packages (from -r requirements.txt (line 12)) (2.19.0)\n",
      "Requirement already satisfied: keras-nlp>=0.6.0 in ./.venv/lib/python3.12/site-packages (from -r requirements.txt (line 13)) (0.21.1)\n",
      "Requirement already satisfied: plotly in ./.venv/lib/python3.12/site-packages (from -r requirements.txt (line 14)) (6.1.2)\n",
      "Requirement already satisfied: tf_keras in ./.venv/lib/python3.12/site-packages (from -r requirements.txt (line 15)) (2.19.0)\n",
      "Requirement already satisfied: jax in ./.venv/lib/python3.12/site-packages (from -r requirements.txt (line 16)) (0.6.1)\n",
      "Requirement already satisfied: keras_tuner in ./.venv/lib/python3.12/site-packages (from -r requirements.txt (line 17)) (1.4.7)\n",
      "Requirement already satisfied: pynvml in ./.venv/lib/python3.12/site-packages (from -r requirements.txt (line 18)) (12.0.0)\n",
      "Requirement already satisfied: langdetect in ./.venv/lib/python3.12/site-packages (from -r requirements.txt (line 19)) (1.0.9)\n",
      "Requirement already satisfied: filelock in ./.venv/lib/python3.12/site-packages (from transformers->-r requirements.txt (line 1)) (3.18.0)\n",
      "Requirement already satisfied: huggingface-hub<1.0,>=0.30.0 in ./.venv/lib/python3.12/site-packages (from transformers->-r requirements.txt (line 1)) (0.33.0)\n",
      "Requirement already satisfied: packaging>=20.0 in ./.venv/lib/python3.12/site-packages (from transformers->-r requirements.txt (line 1)) (25.0)\n",
      "Requirement already satisfied: pyyaml>=5.1 in ./.venv/lib/python3.12/site-packages (from transformers->-r requirements.txt (line 1)) (6.0.2)\n",
      "Requirement already satisfied: regex!=2019.12.17 in ./.venv/lib/python3.12/site-packages (from transformers->-r requirements.txt (line 1)) (2024.11.6)\n",
      "Requirement already satisfied: requests in ./.venv/lib/python3.12/site-packages (from transformers->-r requirements.txt (line 1)) (2.32.4)\n",
      "Requirement already satisfied: tokenizers<0.22,>=0.21 in ./.venv/lib/python3.12/site-packages (from transformers->-r requirements.txt (line 1)) (0.21.1)\n",
      "Requirement already satisfied: safetensors>=0.4.3 in ./.venv/lib/python3.12/site-packages (from transformers->-r requirements.txt (line 1)) (0.5.3)\n",
      "Requirement already satisfied: typing-extensions>=4.10.0 in ./.venv/lib/python3.12/site-packages (from torch->-r requirements.txt (line 2)) (4.14.0)\n",
      "Requirement already satisfied: setuptools in ./.venv/lib/python3.12/site-packages (from torch->-r requirements.txt (line 2)) (80.9.0)\n",
      "Requirement already satisfied: sympy>=1.13.3 in ./.venv/lib/python3.12/site-packages (from torch->-r requirements.txt (line 2)) (1.14.0)\n",
      "Requirement already satisfied: networkx in ./.venv/lib/python3.12/site-packages (from torch->-r requirements.txt (line 2)) (3.5)\n",
      "Requirement already satisfied: jinja2 in ./.venv/lib/python3.12/site-packages (from torch->-r requirements.txt (line 2)) (3.1.6)\n",
      "Requirement already satisfied: fsspec in ./.venv/lib/python3.12/site-packages (from torch->-r requirements.txt (line 2)) (2025.5.1)\n",
      "Requirement already satisfied: nvidia-cuda-nvrtc-cu12==12.6.77 in ./.venv/lib/python3.12/site-packages (from torch->-r requirements.txt (line 2)) (12.6.77)\n",
      "Requirement already satisfied: nvidia-cuda-runtime-cu12==12.6.77 in ./.venv/lib/python3.12/site-packages (from torch->-r requirements.txt (line 2)) (12.6.77)\n",
      "Requirement already satisfied: nvidia-cuda-cupti-cu12==12.6.80 in ./.venv/lib/python3.12/site-packages (from torch->-r requirements.txt (line 2)) (12.6.80)\n",
      "Requirement already satisfied: nvidia-cudnn-cu12==9.5.1.17 in ./.venv/lib/python3.12/site-packages (from torch->-r requirements.txt (line 2)) (9.5.1.17)\n",
      "Requirement already satisfied: nvidia-cublas-cu12==12.6.4.1 in ./.venv/lib/python3.12/site-packages (from torch->-r requirements.txt (line 2)) (12.6.4.1)\n",
      "Requirement already satisfied: nvidia-cufft-cu12==11.3.0.4 in ./.venv/lib/python3.12/site-packages (from torch->-r requirements.txt (line 2)) (11.3.0.4)\n",
      "Requirement already satisfied: nvidia-curand-cu12==10.3.7.77 in ./.venv/lib/python3.12/site-packages (from torch->-r requirements.txt (line 2)) (10.3.7.77)\n",
      "Requirement already satisfied: nvidia-cusolver-cu12==11.7.1.2 in ./.venv/lib/python3.12/site-packages (from torch->-r requirements.txt (line 2)) (11.7.1.2)\n",
      "Requirement already satisfied: nvidia-cusparse-cu12==12.5.4.2 in ./.venv/lib/python3.12/site-packages (from torch->-r requirements.txt (line 2)) (12.5.4.2)\n",
      "Requirement already satisfied: nvidia-cusparselt-cu12==0.6.3 in ./.venv/lib/python3.12/site-packages (from torch->-r requirements.txt (line 2)) (0.6.3)\n",
      "Requirement already satisfied: nvidia-nccl-cu12==2.26.2 in ./.venv/lib/python3.12/site-packages (from torch->-r requirements.txt (line 2)) (2.26.2)\n",
      "Requirement already satisfied: nvidia-nvtx-cu12==12.6.77 in ./.venv/lib/python3.12/site-packages (from torch->-r requirements.txt (line 2)) (12.6.77)\n",
      "Requirement already satisfied: nvidia-nvjitlink-cu12==12.6.85 in ./.venv/lib/python3.12/site-packages (from torch->-r requirements.txt (line 2)) (12.6.85)\n",
      "Requirement already satisfied: nvidia-cufile-cu12==1.11.1.6 in ./.venv/lib/python3.12/site-packages (from torch->-r requirements.txt (line 2)) (1.11.1.6)\n",
      "Requirement already satisfied: triton==3.3.1 in ./.venv/lib/python3.12/site-packages (from torch->-r requirements.txt (line 2)) (3.3.1)\n",
      "Requirement already satisfied: python-dateutil>=2.8.2 in ./.venv/lib/python3.12/site-packages (from pandas->-r requirements.txt (line 3)) (2.9.0.post0)\n",
      "Requirement already satisfied: pytz>=2020.1 in ./.venv/lib/python3.12/site-packages (from pandas->-r requirements.txt (line 3)) (2025.2)\n",
      "Requirement already satisfied: tzdata>=2022.7 in ./.venv/lib/python3.12/site-packages (from pandas->-r requirements.txt (line 3)) (2025.2)\n",
      "Requirement already satisfied: contourpy>=1.0.1 in ./.venv/lib/python3.12/site-packages (from matplotlib->-r requirements.txt (line 6)) (1.3.2)\n",
      "Requirement already satisfied: cycler>=0.10 in ./.venv/lib/python3.12/site-packages (from matplotlib->-r requirements.txt (line 6)) (0.12.1)\n",
      "Requirement already satisfied: fonttools>=4.22.0 in ./.venv/lib/python3.12/site-packages (from matplotlib->-r requirements.txt (line 6)) (4.58.2)\n",
      "Requirement already satisfied: kiwisolver>=1.3.1 in ./.venv/lib/python3.12/site-packages (from matplotlib->-r requirements.txt (line 6)) (1.4.8)\n",
      "Requirement already satisfied: pillow>=8 in ./.venv/lib/python3.12/site-packages (from matplotlib->-r requirements.txt (line 6)) (11.2.1)\n",
      "Requirement already satisfied: pyparsing>=2.3.1 in ./.venv/lib/python3.12/site-packages (from matplotlib->-r requirements.txt (line 6)) (3.2.3)\n",
      "Requirement already satisfied: scipy>=1.8.0 in ./.venv/lib/python3.12/site-packages (from scikit-learn->-r requirements.txt (line 7)) (1.15.3)\n",
      "Requirement already satisfied: joblib>=1.2.0 in ./.venv/lib/python3.12/site-packages (from scikit-learn->-r requirements.txt (line 7)) (1.5.1)\n",
      "Requirement already satisfied: threadpoolctl>=3.1.0 in ./.venv/lib/python3.12/site-packages (from scikit-learn->-r requirements.txt (line 7)) (3.6.0)\n",
      "Requirement already satisfied: click in ./.venv/lib/python3.12/site-packages (from nltk->-r requirements.txt (line 8)) (8.2.1)\n",
      "Requirement already satisfied: absl-py in ./.venv/lib/python3.12/site-packages (from keras>=2.12->-r requirements.txt (line 11)) (2.3.0)\n",
      "Requirement already satisfied: rich in ./.venv/lib/python3.12/site-packages (from keras>=2.12->-r requirements.txt (line 11)) (14.0.0)\n",
      "Requirement already satisfied: namex in ./.venv/lib/python3.12/site-packages (from keras>=2.12->-r requirements.txt (line 11)) (0.1.0)\n",
      "Requirement already satisfied: h5py in ./.venv/lib/python3.12/site-packages (from keras>=2.12->-r requirements.txt (line 11)) (3.14.0)\n",
      "Requirement already satisfied: optree in ./.venv/lib/python3.12/site-packages (from keras>=2.12->-r requirements.txt (line 11)) (0.16.0)\n",
      "Requirement already satisfied: ml-dtypes in ./.venv/lib/python3.12/site-packages (from keras>=2.12->-r requirements.txt (line 11)) (0.5.1)\n",
      "Requirement already satisfied: astunparse>=1.6.0 in ./.venv/lib/python3.12/site-packages (from tensorflow>=2.12->-r requirements.txt (line 12)) (1.6.3)\n",
      "Requirement already satisfied: flatbuffers>=24.3.25 in ./.venv/lib/python3.12/site-packages (from tensorflow>=2.12->-r requirements.txt (line 12)) (25.2.10)\n",
      "Requirement already satisfied: gast!=0.5.0,!=0.5.1,!=0.5.2,>=0.2.1 in ./.venv/lib/python3.12/site-packages (from tensorflow>=2.12->-r requirements.txt (line 12)) (0.6.0)\n",
      "Requirement already satisfied: google-pasta>=0.1.1 in ./.venv/lib/python3.12/site-packages (from tensorflow>=2.12->-r requirements.txt (line 12)) (0.2.0)\n",
      "Requirement already satisfied: libclang>=13.0.0 in ./.venv/lib/python3.12/site-packages (from tensorflow>=2.12->-r requirements.txt (line 12)) (18.1.1)\n",
      "Requirement already satisfied: opt-einsum>=2.3.2 in ./.venv/lib/python3.12/site-packages (from tensorflow>=2.12->-r requirements.txt (line 12)) (3.4.0)\n",
      "Requirement already satisfied: protobuf!=4.21.0,!=4.21.1,!=4.21.2,!=4.21.3,!=4.21.4,!=4.21.5,<6.0.0dev,>=3.20.3 in ./.venv/lib/python3.12/site-packages (from tensorflow>=2.12->-r requirements.txt (line 12)) (5.29.5)\n",
      "Requirement already satisfied: six>=1.12.0 in ./.venv/lib/python3.12/site-packages (from tensorflow>=2.12->-r requirements.txt (line 12)) (1.17.0)\n",
      "Requirement already satisfied: termcolor>=1.1.0 in ./.venv/lib/python3.12/site-packages (from tensorflow>=2.12->-r requirements.txt (line 12)) (3.1.0)\n",
      "Requirement already satisfied: wrapt>=1.11.0 in ./.venv/lib/python3.12/site-packages (from tensorflow>=2.12->-r requirements.txt (line 12)) (1.17.2)\n",
      "Requirement already satisfied: grpcio<2.0,>=1.24.3 in ./.venv/lib/python3.12/site-packages (from tensorflow>=2.12->-r requirements.txt (line 12)) (1.73.0)\n",
      "Requirement already satisfied: tensorboard~=2.19.0 in ./.venv/lib/python3.12/site-packages (from tensorflow>=2.12->-r requirements.txt (line 12)) (2.19.0)\n",
      "Requirement already satisfied: keras-hub==0.21.1 in ./.venv/lib/python3.12/site-packages (from keras-nlp>=0.6.0->-r requirements.txt (line 13)) (0.21.1)\n",
      "Requirement already satisfied: kagglehub in ./.venv/lib/python3.12/site-packages (from keras-hub==0.21.1->keras-nlp>=0.6.0->-r requirements.txt (line 13)) (0.3.12)\n",
      "Requirement already satisfied: tensorflow-text in ./.venv/lib/python3.12/site-packages (from keras-hub==0.21.1->keras-nlp>=0.6.0->-r requirements.txt (line 13)) (2.19.0)\n",
      "Requirement already satisfied: narwhals>=1.15.1 in ./.venv/lib/python3.12/site-packages (from plotly->-r requirements.txt (line 14)) (1.42.0)\n",
      "Requirement already satisfied: jaxlib<=0.6.1,>=0.6.1 in ./.venv/lib/python3.12/site-packages (from jax->-r requirements.txt (line 16)) (0.6.1)\n",
      "Requirement already satisfied: kt-legacy in ./.venv/lib/python3.12/site-packages (from keras_tuner->-r requirements.txt (line 17)) (1.0.5)\n",
      "Requirement already satisfied: nvidia-ml-py<13.0.0a0,>=12.0.0 in ./.venv/lib/python3.12/site-packages (from pynvml->-r requirements.txt (line 18)) (12.575.51)\n",
      "Requirement already satisfied: wheel<1.0,>=0.23.0 in ./.venv/lib/python3.12/site-packages (from astunparse>=1.6.0->tensorflow>=2.12->-r requirements.txt (line 12)) (0.45.1)\n",
      "Requirement already satisfied: hf-xet<2.0.0,>=1.1.2 in ./.venv/lib/python3.12/site-packages (from huggingface-hub<1.0,>=0.30.0->transformers->-r requirements.txt (line 1)) (1.1.3)\n",
      "Requirement already satisfied: charset_normalizer<4,>=2 in ./.venv/lib/python3.12/site-packages (from requests->transformers->-r requirements.txt (line 1)) (3.4.2)\n",
      "Requirement already satisfied: idna<4,>=2.5 in ./.venv/lib/python3.12/site-packages (from requests->transformers->-r requirements.txt (line 1)) (3.10)\n",
      "Requirement already satisfied: urllib3<3,>=1.21.1 in ./.venv/lib/python3.12/site-packages (from requests->transformers->-r requirements.txt (line 1)) (2.4.0)\n",
      "Requirement already satisfied: certifi>=2017.4.17 in ./.venv/lib/python3.12/site-packages (from requests->transformers->-r requirements.txt (line 1)) (2025.4.26)\n",
      "Requirement already satisfied: mpmath<1.4,>=1.1.0 in ./.venv/lib/python3.12/site-packages (from sympy>=1.13.3->torch->-r requirements.txt (line 2)) (1.3.0)\n",
      "Requirement already satisfied: markdown>=2.6.8 in ./.venv/lib/python3.12/site-packages (from tensorboard~=2.19.0->tensorflow>=2.12->-r requirements.txt (line 12)) (3.8)\n",
      "Requirement already satisfied: tensorboard-data-server<0.8.0,>=0.7.0 in ./.venv/lib/python3.12/site-packages (from tensorboard~=2.19.0->tensorflow>=2.12->-r requirements.txt (line 12)) (0.7.2)\n",
      "Requirement already satisfied: werkzeug>=1.0.1 in ./.venv/lib/python3.12/site-packages (from tensorboard~=2.19.0->tensorflow>=2.12->-r requirements.txt (line 12)) (3.1.3)\n",
      "Requirement already satisfied: MarkupSafe>=2.0 in ./.venv/lib/python3.12/site-packages (from jinja2->torch->-r requirements.txt (line 2)) (3.0.2)\n",
      "Requirement already satisfied: markdown-it-py>=2.2.0 in ./.venv/lib/python3.12/site-packages (from rich->keras>=2.12->-r requirements.txt (line 11)) (3.0.0)\n",
      "Requirement already satisfied: pygments<3.0.0,>=2.13.0 in ./.venv/lib/python3.12/site-packages (from rich->keras>=2.12->-r requirements.txt (line 11)) (2.19.1)\n",
      "Requirement already satisfied: mdurl~=0.1 in ./.venv/lib/python3.12/site-packages (from markdown-it-py>=2.2.0->rich->keras>=2.12->-r requirements.txt (line 11)) (0.1.2)\n"
     ]
    }
   ],
   "source": [
    "!pip install -r requirements.txt"
   ]
  },
  {
   "cell_type": "code",
   "execution_count": 3,
   "id": "4026f9e2",
   "metadata": {
    "execution": {
     "iopub.execute_input": "2024-08-01T05:25:45.101259Z",
     "iopub.status.busy": "2024-08-01T05:25:45.100937Z",
     "iopub.status.idle": "2024-08-01T05:26:00.661672Z",
     "shell.execute_reply": "2024-08-01T05:26:00.660832Z"
    },
    "id": "LoDrvovGApUT",
    "papermill": {
     "duration": 15.574678,
     "end_time": "2024-08-01T05:26:00.663952",
     "exception": false,
     "start_time": "2024-08-01T05:25:45.089274",
     "status": "completed"
    },
    "tags": []
   },
   "outputs": [],
   "source": [
    "import os\n",
    "\n",
    "import emoji\n",
    "import keras\n",
    "import random\n",
    "import warnings\n",
    "import numpy as np\n",
    "import pandas as pd\n",
    "import keras.backend\n",
    "import tensorflow as tf\n",
    "import plotly.express as px\n",
    "import matplotlib.pyplot as plt\n",
    "from sklearn.model_selection import train_test_split\n",
    "from keras_nlp.models import DebertaV3Preprocessor, DebertaV3Classifier\n",
    "import time\n",
    "import csv\n",
    "from langdetect import detect"
   ]
  },
  {
   "cell_type": "code",
   "execution_count": 4,
   "id": "bb9c0277",
   "metadata": {
    "execution": {
     "iopub.execute_input": "2024-08-01T05:26:00.694382Z",
     "iopub.status.busy": "2024-08-01T05:26:00.693786Z",
     "iopub.status.idle": "2024-08-01T05:26:00.698377Z",
     "shell.execute_reply": "2024-08-01T05:26:00.697555Z"
    },
    "id": "Z5UtfbAQApUV",
    "papermill": {
     "duration": 0.019476,
     "end_time": "2024-08-01T05:26:00.700313",
     "exception": false,
     "start_time": "2024-08-01T05:26:00.680837",
     "status": "completed"
    },
    "tags": []
   },
   "outputs": [],
   "source": [
    "warnings.filterwarnings(\"ignore\")"
   ]
  },
  {
   "cell_type": "code",
   "execution_count": 5,
   "id": "d984756e",
   "metadata": {
    "execution": {
     "iopub.execute_input": "2024-08-01T05:26:00.725013Z",
     "iopub.status.busy": "2024-08-01T05:26:00.724432Z",
     "iopub.status.idle": "2024-08-01T05:26:00.728526Z",
     "shell.execute_reply": "2024-08-01T05:26:00.727755Z"
    },
    "papermill": {
     "duration": 0.018644,
     "end_time": "2024-08-01T05:26:00.730406",
     "exception": false,
     "start_time": "2024-08-01T05:26:00.711762",
     "status": "completed"
    },
    "tags": []
   },
   "outputs": [],
   "source": [
    "# Reproducability\n",
    "keras.utils.set_random_seed(101)"
   ]
  },
  {
   "cell_type": "markdown",
   "id": "d7c0f778",
   "metadata": {
    "papermill": {
     "duration": 0.010696,
     "end_time": "2024-08-01T05:26:00.751483",
     "exception": false,
     "start_time": "2024-08-01T05:26:00.740787",
     "status": "completed"
    },
    "tags": []
   },
   "source": [
    "# Mixed precision"
   ]
  },
  {
   "cell_type": "code",
   "execution_count": 6,
   "id": "c0ded402",
   "metadata": {
    "execution": {
     "iopub.execute_input": "2024-08-01T05:26:00.773801Z",
     "iopub.status.busy": "2024-08-01T05:26:00.773153Z",
     "iopub.status.idle": "2024-08-01T05:26:00.776922Z",
     "shell.execute_reply": "2024-08-01T05:26:00.776114Z"
    },
    "papermill": {
     "duration": 0.016973,
     "end_time": "2024-08-01T05:26:00.778883",
     "exception": false,
     "start_time": "2024-08-01T05:26:00.761910",
     "status": "completed"
    },
    "tags": []
   },
   "outputs": [],
   "source": [
    "keras.mixed_precision.set_global_policy(\"mixed_float16\")"
   ]
  },
  {
   "cell_type": "markdown",
   "id": "9654c72b",
   "metadata": {
    "papermill": {
     "duration": 0.010188,
     "end_time": "2024-08-01T05:26:00.799352",
     "exception": false,
     "start_time": "2024-08-01T05:26:00.789164",
     "status": "completed"
    },
    "tags": []
   },
   "source": [
    "# Importing the dataframe"
   ]
  },
  {
   "cell_type": "code",
   "execution_count": 7,
   "id": "bcfed167",
   "metadata": {
    "execution": {
     "iopub.execute_input": "2024-08-01T05:26:00.821635Z",
     "iopub.status.busy": "2024-08-01T05:26:00.821030Z",
     "iopub.status.idle": "2024-08-01T05:26:01.784200Z",
     "shell.execute_reply": "2024-08-01T05:26:01.783305Z"
    },
    "id": "PTrbaVrrApUW",
    "outputId": "5f730820-9c01-4f5d-b30b-c323f508b8ec",
    "papermill": {
     "duration": 0.9766,
     "end_time": "2024-08-01T05:26:01.786250",
     "exception": false,
     "start_time": "2024-08-01T05:26:00.809650",
     "status": "completed"
    },
    "tags": []
   },
   "outputs": [
    {
     "data": {
      "text/html": [
       "<div>\n",
       "<style scoped>\n",
       "    .dataframe tbody tr th:only-of-type {\n",
       "        vertical-align: middle;\n",
       "    }\n",
       "\n",
       "    .dataframe tbody tr th {\n",
       "        vertical-align: top;\n",
       "    }\n",
       "\n",
       "    .dataframe thead th {\n",
       "        text-align: right;\n",
       "    }\n",
       "</style>\n",
       "<table border=\"1\" class=\"dataframe\">\n",
       "  <thead>\n",
       "    <tr style=\"text-align: right;\">\n",
       "      <th></th>\n",
       "      <th>reviewId</th>\n",
       "      <th>userName</th>\n",
       "      <th>content</th>\n",
       "      <th>score</th>\n",
       "      <th>thumbsUpCount</th>\n",
       "      <th>reviewCreatedVersion</th>\n",
       "      <th>at</th>\n",
       "      <th>appVersion</th>\n",
       "    </tr>\n",
       "  </thead>\n",
       "  <tbody>\n",
       "    <tr>\n",
       "      <th>0</th>\n",
       "      <td>5add6ea9-7861-4994-b514-e064c1320e4e</td>\n",
       "      <td>Dennis Smith</td>\n",
       "      <td>❤️</td>\n",
       "      <td>5</td>\n",
       "      <td>0</td>\n",
       "      <td>9.17.1 build 4 62728</td>\n",
       "      <td>2025-06-10 12:54:36</td>\n",
       "      <td>9.17.1 build 4 62728</td>\n",
       "    </tr>\n",
       "    <tr>\n",
       "      <th>1</th>\n",
       "      <td>46ce3e8a-51d6-445f-9792-daf29dcda5f1</td>\n",
       "      <td>Teniola Aderibigbe</td>\n",
       "      <td>I wish there was Julie and the phantoms season 2</td>\n",
       "      <td>4</td>\n",
       "      <td>0</td>\n",
       "      <td>9.18.2 build 10 62780</td>\n",
       "      <td>2025-06-10 12:35:39</td>\n",
       "      <td>9.18.2 build 10 62780</td>\n",
       "    </tr>\n",
       "    <tr>\n",
       "      <th>2</th>\n",
       "      <td>4a7e91e0-9feb-47e7-9cbf-63e612e8fb44</td>\n",
       "      <td>Shazwan Shafie (Dio92)</td>\n",
       "      <td>I can't stop watching Netflix... really enjoye...</td>\n",
       "      <td>5</td>\n",
       "      <td>0</td>\n",
       "      <td>9.18.2 build 10 62780</td>\n",
       "      <td>2025-06-10 12:25:50</td>\n",
       "      <td>9.18.2 build 10 62780</td>\n",
       "    </tr>\n",
       "    <tr>\n",
       "      <th>3</th>\n",
       "      <td>359b680f-2507-4b9c-9027-f5c4142f6ce9</td>\n",
       "      <td>Prince Chibueyi</td>\n",
       "      <td>Love it so much</td>\n",
       "      <td>5</td>\n",
       "      <td>0</td>\n",
       "      <td>8.143.5 build 19 52400</td>\n",
       "      <td>2025-06-10 12:19:21</td>\n",
       "      <td>8.143.5 build 19 52400</td>\n",
       "    </tr>\n",
       "    <tr>\n",
       "      <th>4</th>\n",
       "      <td>d396b4e3-7906-483e-a6c4-c38754f66c97</td>\n",
       "      <td>Katleho Stuurman</td>\n",
       "      <td>best app ever</td>\n",
       "      <td>5</td>\n",
       "      <td>0</td>\n",
       "      <td>9.18.2 build 10 62780</td>\n",
       "      <td>2025-06-10 12:16:35</td>\n",
       "      <td>9.18.2 build 10 62780</td>\n",
       "    </tr>\n",
       "    <tr>\n",
       "      <th>...</th>\n",
       "      <td>...</td>\n",
       "      <td>...</td>\n",
       "      <td>...</td>\n",
       "      <td>...</td>\n",
       "      <td>...</td>\n",
       "      <td>...</td>\n",
       "      <td>...</td>\n",
       "      <td>...</td>\n",
       "    </tr>\n",
       "    <tr>\n",
       "      <th>137841</th>\n",
       "      <td>a760ead9-e7aa-4ed1-a651-5c37c3600dac</td>\n",
       "      <td>A Google user</td>\n",
       "      <td>i really like it! there are so many movies and...</td>\n",
       "      <td>5</td>\n",
       "      <td>0</td>\n",
       "      <td>NaN</td>\n",
       "      <td>2019-08-03 15:06:03</td>\n",
       "      <td>NaN</td>\n",
       "    </tr>\n",
       "    <tr>\n",
       "      <th>137842</th>\n",
       "      <td>4957f9e7-d7f4-4a52-9764-031cebcac83f</td>\n",
       "      <td>Captain Jeoy</td>\n",
       "      <td>I love Netflix. I always enjoy my time using it.</td>\n",
       "      <td>5</td>\n",
       "      <td>0</td>\n",
       "      <td>8.34.0 build 4 50250</td>\n",
       "      <td>2022-08-15 16:16:30</td>\n",
       "      <td>8.34.0 build 4 50250</td>\n",
       "    </tr>\n",
       "    <tr>\n",
       "      <th>137843</th>\n",
       "      <td>9acf7586-7abf-4b50-8c50-3ede3b2a42c4</td>\n",
       "      <td>Suryansh</td>\n",
       "      <td>Sound quality is very slow of movies</td>\n",
       "      <td>1</td>\n",
       "      <td>0</td>\n",
       "      <td>NaN</td>\n",
       "      <td>2020-08-17 07:26:58</td>\n",
       "      <td>NaN</td>\n",
       "    </tr>\n",
       "    <tr>\n",
       "      <th>137844</th>\n",
       "      <td>32870f7f-c461-4256-b602-75244ca60248</td>\n",
       "      <td>A Google user</td>\n",
       "      <td>Rate is very expensive.. bcos we see netflix s...</td>\n",
       "      <td>1</td>\n",
       "      <td>0</td>\n",
       "      <td>7.17.0 build 13 34346</td>\n",
       "      <td>2019-07-21 09:41:42</td>\n",
       "      <td>7.17.0 build 13 34346</td>\n",
       "    </tr>\n",
       "    <tr>\n",
       "      <th>137845</th>\n",
       "      <td>dc1352e9-10a8-41ca-ab23-05d045b08e90</td>\n",
       "      <td>suraj soni</td>\n",
       "      <td>this app is awesome for english movies ,series...</td>\n",
       "      <td>4</td>\n",
       "      <td>0</td>\n",
       "      <td>NaN</td>\n",
       "      <td>2020-05-24 11:04:08</td>\n",
       "      <td>NaN</td>\n",
       "    </tr>\n",
       "  </tbody>\n",
       "</table>\n",
       "<p>137846 rows × 8 columns</p>\n",
       "</div>"
      ],
      "text/plain": [
       "                                    reviewId                userName  \\\n",
       "0       5add6ea9-7861-4994-b514-e064c1320e4e            Dennis Smith   \n",
       "1       46ce3e8a-51d6-445f-9792-daf29dcda5f1      Teniola Aderibigbe   \n",
       "2       4a7e91e0-9feb-47e7-9cbf-63e612e8fb44  Shazwan Shafie (Dio92)   \n",
       "3       359b680f-2507-4b9c-9027-f5c4142f6ce9         Prince Chibueyi   \n",
       "4       d396b4e3-7906-483e-a6c4-c38754f66c97        Katleho Stuurman   \n",
       "...                                      ...                     ...   \n",
       "137841  a760ead9-e7aa-4ed1-a651-5c37c3600dac           A Google user   \n",
       "137842  4957f9e7-d7f4-4a52-9764-031cebcac83f            Captain Jeoy   \n",
       "137843  9acf7586-7abf-4b50-8c50-3ede3b2a42c4                Suryansh   \n",
       "137844  32870f7f-c461-4256-b602-75244ca60248           A Google user   \n",
       "137845  dc1352e9-10a8-41ca-ab23-05d045b08e90              suraj soni   \n",
       "\n",
       "                                                  content  score  \\\n",
       "0                                                      ❤️      5   \n",
       "1        I wish there was Julie and the phantoms season 2      4   \n",
       "2       I can't stop watching Netflix... really enjoye...      5   \n",
       "3                                         Love it so much      5   \n",
       "4                                           best app ever      5   \n",
       "...                                                   ...    ...   \n",
       "137841  i really like it! there are so many movies and...      5   \n",
       "137842   I love Netflix. I always enjoy my time using it.      5   \n",
       "137843               Sound quality is very slow of movies      1   \n",
       "137844  Rate is very expensive.. bcos we see netflix s...      1   \n",
       "137845  this app is awesome for english movies ,series...      4   \n",
       "\n",
       "        thumbsUpCount    reviewCreatedVersion                   at  \\\n",
       "0                   0    9.17.1 build 4 62728  2025-06-10 12:54:36   \n",
       "1                   0   9.18.2 build 10 62780  2025-06-10 12:35:39   \n",
       "2                   0   9.18.2 build 10 62780  2025-06-10 12:25:50   \n",
       "3                   0  8.143.5 build 19 52400  2025-06-10 12:19:21   \n",
       "4                   0   9.18.2 build 10 62780  2025-06-10 12:16:35   \n",
       "...               ...                     ...                  ...   \n",
       "137841              0                     NaN  2019-08-03 15:06:03   \n",
       "137842              0    8.34.0 build 4 50250  2022-08-15 16:16:30   \n",
       "137843              0                     NaN  2020-08-17 07:26:58   \n",
       "137844              0   7.17.0 build 13 34346  2019-07-21 09:41:42   \n",
       "137845              0                     NaN  2020-05-24 11:04:08   \n",
       "\n",
       "                    appVersion  \n",
       "0         9.17.1 build 4 62728  \n",
       "1        9.18.2 build 10 62780  \n",
       "2        9.18.2 build 10 62780  \n",
       "3       8.143.5 build 19 52400  \n",
       "4        9.18.2 build 10 62780  \n",
       "...                        ...  \n",
       "137841                     NaN  \n",
       "137842    8.34.0 build 4 50250  \n",
       "137843                     NaN  \n",
       "137844   7.17.0 build 13 34346  \n",
       "137845                     NaN  \n",
       "\n",
       "[137846 rows x 8 columns]"
      ]
     },
     "execution_count": 7,
     "metadata": {},
     "output_type": "execute_result"
    }
   ],
   "source": [
    "# Reading in the dataframe\n",
    "filepath = 'netflix_reviews.csv'\n",
    "df = pd.read_csv(filepath)\n",
    "df"
   ]
  },
  {
   "cell_type": "markdown",
   "id": "cfad6a84",
   "metadata": {
    "papermill": {
     "duration": 0.010701,
     "end_time": "2024-08-01T05:26:01.808291",
     "exception": false,
     "start_time": "2024-08-01T05:26:01.797590",
     "status": "completed"
    },
    "tags": []
   },
   "source": [
    "All the columns of our dataframe are not important for the purpose of sentiment analysis. And the columns that are useful to us are not in proper format. So we will apply the following preprocessing to our dataframe:\n",
    "\n",
    "* Drop all the columns from the dataframe except for 'content' and 'score'\n",
    "* Change the data type of the 'content' column to str and the rest of the columns to int\n",
    "* Create a new column called 'sentiment' which will have the value 1 (positive) if the corresponding score is >= 3, else it will have the value 0 (negative)"
   ]
  },
  {
   "cell_type": "code",
   "execution_count": 8,
   "id": "2c0d3f7a",
   "metadata": {
    "execution": {
     "iopub.execute_input": "2024-08-01T05:26:01.831303Z",
     "iopub.status.busy": "2024-08-01T05:26:01.830674Z",
     "iopub.status.idle": "2024-08-01T05:26:01.932187Z",
     "shell.execute_reply": "2024-08-01T05:26:01.931267Z"
    },
    "id": "SfpqA12EApUW",
    "outputId": "6ae14908-6c48-42bd-dae9-e89b47282fd6",
    "papermill": {
     "duration": 0.115237,
     "end_time": "2024-08-01T05:26:01.934200",
     "exception": false,
     "start_time": "2024-08-01T05:26:01.818963",
     "status": "completed"
    },
    "tags": []
   },
   "outputs": [
    {
     "data": {
      "text/html": [
       "<div>\n",
       "<style scoped>\n",
       "    .dataframe tbody tr th:only-of-type {\n",
       "        vertical-align: middle;\n",
       "    }\n",
       "\n",
       "    .dataframe tbody tr th {\n",
       "        vertical-align: top;\n",
       "    }\n",
       "\n",
       "    .dataframe thead th {\n",
       "        text-align: right;\n",
       "    }\n",
       "</style>\n",
       "<table border=\"1\" class=\"dataframe\">\n",
       "  <thead>\n",
       "    <tr style=\"text-align: right;\">\n",
       "      <th></th>\n",
       "      <th>content</th>\n",
       "      <th>score</th>\n",
       "      <th>sentiment</th>\n",
       "    </tr>\n",
       "  </thead>\n",
       "  <tbody>\n",
       "    <tr>\n",
       "      <th>0</th>\n",
       "      <td>❤️</td>\n",
       "      <td>5</td>\n",
       "      <td>positive</td>\n",
       "    </tr>\n",
       "    <tr>\n",
       "      <th>1</th>\n",
       "      <td>I wish there was Julie and the phantoms season 2</td>\n",
       "      <td>4</td>\n",
       "      <td>positive</td>\n",
       "    </tr>\n",
       "    <tr>\n",
       "      <th>2</th>\n",
       "      <td>I can't stop watching Netflix... really enjoye...</td>\n",
       "      <td>5</td>\n",
       "      <td>positive</td>\n",
       "    </tr>\n",
       "    <tr>\n",
       "      <th>3</th>\n",
       "      <td>Love it so much</td>\n",
       "      <td>5</td>\n",
       "      <td>positive</td>\n",
       "    </tr>\n",
       "    <tr>\n",
       "      <th>4</th>\n",
       "      <td>best app ever</td>\n",
       "      <td>5</td>\n",
       "      <td>positive</td>\n",
       "    </tr>\n",
       "    <tr>\n",
       "      <th>...</th>\n",
       "      <td>...</td>\n",
       "      <td>...</td>\n",
       "      <td>...</td>\n",
       "    </tr>\n",
       "    <tr>\n",
       "      <th>137841</th>\n",
       "      <td>i really like it! there are so many movies and...</td>\n",
       "      <td>5</td>\n",
       "      <td>positive</td>\n",
       "    </tr>\n",
       "    <tr>\n",
       "      <th>137842</th>\n",
       "      <td>I love Netflix. I always enjoy my time using it.</td>\n",
       "      <td>5</td>\n",
       "      <td>positive</td>\n",
       "    </tr>\n",
       "    <tr>\n",
       "      <th>137843</th>\n",
       "      <td>Sound quality is very slow of movies</td>\n",
       "      <td>1</td>\n",
       "      <td>negative</td>\n",
       "    </tr>\n",
       "    <tr>\n",
       "      <th>137844</th>\n",
       "      <td>Rate is very expensive.. bcos we see netflix s...</td>\n",
       "      <td>1</td>\n",
       "      <td>negative</td>\n",
       "    </tr>\n",
       "    <tr>\n",
       "      <th>137845</th>\n",
       "      <td>this app is awesome for english movies ,series...</td>\n",
       "      <td>4</td>\n",
       "      <td>positive</td>\n",
       "    </tr>\n",
       "  </tbody>\n",
       "</table>\n",
       "<p>137846 rows × 3 columns</p>\n",
       "</div>"
      ],
      "text/plain": [
       "                                                  content  score sentiment\n",
       "0                                                      ❤️      5  positive\n",
       "1        I wish there was Julie and the phantoms season 2      4  positive\n",
       "2       I can't stop watching Netflix... really enjoye...      5  positive\n",
       "3                                         Love it so much      5  positive\n",
       "4                                           best app ever      5  positive\n",
       "...                                                   ...    ...       ...\n",
       "137841  i really like it! there are so many movies and...      5  positive\n",
       "137842   I love Netflix. I always enjoy my time using it.      5  positive\n",
       "137843               Sound quality is very slow of movies      1  negative\n",
       "137844  Rate is very expensive.. bcos we see netflix s...      1  negative\n",
       "137845  this app is awesome for english movies ,series...      4  positive\n",
       "\n",
       "[137846 rows x 3 columns]"
      ]
     },
     "execution_count": 8,
     "metadata": {},
     "output_type": "execute_result"
    }
   ],
   "source": [
    "df = df.drop(df.columns[[0, 1, 4, 5, 6, 7]], axis=1) # dropping all the columns except for 'content' and 'score'\n",
    "df[df.columns[0]] = df[df.columns[0]].astype(str) # changing the datatype of 'content' column to str\n",
    "df[df.columns[1:]] = df[df.columns[1:]].astype(int) # changing the datatype of all other columns to int\n",
    "\n",
    "def score_to_sentiment(score):\n",
    "    if score <= 2:\n",
    "        return 'negative'\n",
    "    elif score == 3:\n",
    "        return 'neutral'\n",
    "    else:\n",
    "        return 'positive'\n",
    "\n",
    "# Apply function \n",
    "df['sentiment'] = df['score'].apply(score_to_sentiment)\n",
    "\n",
    "df"
   ]
  },
  {
   "cell_type": "code",
   "execution_count": 9,
   "id": "79bf124f",
   "metadata": {
    "execution": {
     "iopub.execute_input": "2024-08-01T05:26:01.957949Z",
     "iopub.status.busy": "2024-08-01T05:26:01.957633Z",
     "iopub.status.idle": "2024-08-01T05:26:01.986372Z",
     "shell.execute_reply": "2024-08-01T05:26:01.985429Z"
    },
    "id": "SKRcC0LUApUW",
    "outputId": "204f6ae9-83d8-4378-9a13-b54f4fd339c6",
    "papermill": {
     "duration": 0.042654,
     "end_time": "2024-08-01T05:26:01.988296",
     "exception": false,
     "start_time": "2024-08-01T05:26:01.945642",
     "status": "completed"
    },
    "tags": []
   },
   "outputs": [
    {
     "name": "stdout",
     "output_type": "stream",
     "text": [
      "<class 'pandas.core.frame.DataFrame'>\n",
      "RangeIndex: 137846 entries, 0 to 137845\n",
      "Data columns (total 3 columns):\n",
      " #   Column     Non-Null Count   Dtype \n",
      "---  ------     --------------   ----- \n",
      " 0   content    137846 non-null  object\n",
      " 1   score      137846 non-null  int64 \n",
      " 2   sentiment  137846 non-null  object\n",
      "dtypes: int64(1), object(2)\n",
      "memory usage: 3.2+ MB\n"
     ]
    }
   ],
   "source": [
    "df.info()"
   ]
  },
  {
   "cell_type": "markdown",
   "id": "4019530c",
   "metadata": {
    "papermill": {
     "duration": 0.022399,
     "end_time": "2024-08-01T05:26:05.358456",
     "exception": false,
     "start_time": "2024-08-01T05:26:05.336057",
     "status": "completed"
    },
    "tags": []
   },
   "source": [
    "# Data pre-processing"
   ]
  },
  {
   "cell_type": "code",
   "execution_count": 10,
   "id": "19a181c7",
   "metadata": {
    "execution": {
     "iopub.execute_input": "2024-08-01T05:26:05.404910Z",
     "iopub.status.busy": "2024-08-01T05:26:05.404080Z",
     "iopub.status.idle": "2024-08-01T05:26:05.409403Z",
     "shell.execute_reply": "2024-08-01T05:26:05.408645Z"
    },
    "papermill": {
     "duration": 0.030429,
     "end_time": "2024-08-01T05:26:05.411323",
     "exception": false,
     "start_time": "2024-08-01T05:26:05.380894",
     "status": "completed"
    },
    "tags": []
   },
   "outputs": [],
   "source": [
    "def de_emojize_text(text):\n",
    "    for x in text: # If a text contains an emoji, convert that emoji into its english name\n",
    "        if emoji.is_emoji(x):\n",
    "            demojized = emoji.demojize(x).split(\"_\")\n",
    "            demojized_string = \" \".join(demojized)\n",
    "            text = text.replace(x, demojized_string)\n",
    "    return text"
   ]
  },
  {
   "cell_type": "code",
   "execution_count": 11,
   "id": "290b1036",
   "metadata": {
    "execution": {
     "iopub.execute_input": "2024-08-01T05:26:05.458505Z",
     "iopub.status.busy": "2024-08-01T05:26:05.458232Z",
     "iopub.status.idle": "2024-08-01T05:26:10.097294Z",
     "shell.execute_reply": "2024-08-01T05:26:10.096524Z"
    },
    "papermill": {
     "duration": 4.664635,
     "end_time": "2024-08-01T05:26:10.099654",
     "exception": false,
     "start_time": "2024-08-01T05:26:05.435019",
     "status": "completed"
    },
    "tags": []
   },
   "outputs": [],
   "source": [
    "df['content'] = df['content'].apply(de_emojize_text)"
   ]
  },
  {
   "cell_type": "code",
   "execution_count": 12,
   "id": "db8bd0f9",
   "metadata": {
    "execution": {
     "iopub.execute_input": "2024-08-01T05:26:10.148369Z",
     "iopub.status.busy": "2024-08-01T05:26:10.148048Z",
     "iopub.status.idle": "2024-08-01T05:26:10.307437Z",
     "shell.execute_reply": "2024-08-01T05:26:10.306590Z"
    },
    "papermill": {
     "duration": 0.18567,
     "end_time": "2024-08-01T05:26:10.309583",
     "exception": false,
     "start_time": "2024-08-01T05:26:10.123913",
     "status": "completed"
    },
    "tags": []
   },
   "outputs": [
    {
     "data": {
      "text/html": [
       "<div>\n",
       "<style scoped>\n",
       "    .dataframe tbody tr th:only-of-type {\n",
       "        vertical-align: middle;\n",
       "    }\n",
       "\n",
       "    .dataframe tbody tr th {\n",
       "        vertical-align: top;\n",
       "    }\n",
       "\n",
       "    .dataframe thead th {\n",
       "        text-align: right;\n",
       "    }\n",
       "</style>\n",
       "<table border=\"1\" class=\"dataframe\">\n",
       "  <thead>\n",
       "    <tr style=\"text-align: right;\">\n",
       "      <th></th>\n",
       "      <th>content</th>\n",
       "      <th>score</th>\n",
       "      <th>sentiment</th>\n",
       "    </tr>\n",
       "  </thead>\n",
       "  <tbody>\n",
       "  </tbody>\n",
       "</table>\n",
       "</div>"
      ],
      "text/plain": [
       "Empty DataFrame\n",
       "Columns: [content, score, sentiment]\n",
       "Index: []"
      ]
     },
     "execution_count": 12,
     "metadata": {},
     "output_type": "execute_result"
    }
   ],
   "source": [
    "df[df['content'].apply(lambda x: all(emoji.is_emoji(char) for char in x))]"
   ]
  },
  {
   "cell_type": "code",
   "execution_count": 13,
   "id": "ff74a440",
   "metadata": {},
   "outputs": [],
   "source": [
    "# Convert sentiments to numerical labels\n",
    "sentiment_label_map = {'negative': 0, 'neutral': 1, 'positive': 2}\n",
    "df['sentiment'] = df['sentiment'].map(sentiment_label_map).values"
   ]
  },
  {
   "cell_type": "code",
   "execution_count": 14,
   "id": "98c5dded",
   "metadata": {},
   "outputs": [],
   "source": [
    "# Detect language of the text\n",
    "def detect_lang(text):\n",
    "    try:\n",
    "        return detect(text)\n",
    "    except:\n",
    "        return 'error'\n",
    "df['language'] = (\n",
    "    df['content'].astype(str).apply(detect_lang)\n",
    ")"
   ]
  },
  {
   "cell_type": "code",
   "execution_count": 15,
   "id": "68a6d1fd",
   "metadata": {},
   "outputs": [
    {
     "data": {
      "text/html": [
       "<div>\n",
       "<style scoped>\n",
       "    .dataframe tbody tr th:only-of-type {\n",
       "        vertical-align: middle;\n",
       "    }\n",
       "\n",
       "    .dataframe tbody tr th {\n",
       "        vertical-align: top;\n",
       "    }\n",
       "\n",
       "    .dataframe thead th {\n",
       "        text-align: right;\n",
       "    }\n",
       "</style>\n",
       "<table border=\"1\" class=\"dataframe\">\n",
       "  <thead>\n",
       "    <tr style=\"text-align: right;\">\n",
       "      <th></th>\n",
       "      <th>content</th>\n",
       "      <th>score</th>\n",
       "      <th>sentiment</th>\n",
       "      <th>language</th>\n",
       "    </tr>\n",
       "  </thead>\n",
       "  <tbody>\n",
       "    <tr>\n",
       "      <th>0</th>\n",
       "      <td>:red heart:️</td>\n",
       "      <td>5</td>\n",
       "      <td>2</td>\n",
       "      <td>en</td>\n",
       "    </tr>\n",
       "    <tr>\n",
       "      <th>1</th>\n",
       "      <td>I wish there was Julie and the phantoms season 2</td>\n",
       "      <td>4</td>\n",
       "      <td>2</td>\n",
       "      <td>en</td>\n",
       "    </tr>\n",
       "    <tr>\n",
       "      <th>2</th>\n",
       "      <td>I can't stop watching Netflix... really enjoye...</td>\n",
       "      <td>5</td>\n",
       "      <td>2</td>\n",
       "      <td>en</td>\n",
       "    </tr>\n",
       "    <tr>\n",
       "      <th>3</th>\n",
       "      <td>Love it so much</td>\n",
       "      <td>5</td>\n",
       "      <td>2</td>\n",
       "      <td>en</td>\n",
       "    </tr>\n",
       "    <tr>\n",
       "      <th>4</th>\n",
       "      <td>It's has experienced sublime quality to watch ...</td>\n",
       "      <td>5</td>\n",
       "      <td>2</td>\n",
       "      <td>en</td>\n",
       "    </tr>\n",
       "  </tbody>\n",
       "</table>\n",
       "</div>"
      ],
      "text/plain": [
       "                                             content  score  sentiment  \\\n",
       "0                                       :red heart:️      5          2   \n",
       "1   I wish there was Julie and the phantoms season 2      4          2   \n",
       "2  I can't stop watching Netflix... really enjoye...      5          2   \n",
       "3                                    Love it so much      5          2   \n",
       "4  It's has experienced sublime quality to watch ...      5          2   \n",
       "\n",
       "  language  \n",
       "0       en  \n",
       "1       en  \n",
       "2       en  \n",
       "3       en  \n",
       "4       en  "
      ]
     },
     "execution_count": 15,
     "metadata": {},
     "output_type": "execute_result"
    }
   ],
   "source": [
    "# Filter out non-English reviews\n",
    "df = df[df['language'] == 'en']\n",
    "\n",
    "# Reset index after filtering\n",
    "df.reset_index(drop=True, inplace=True)\n",
    "\n",
    "df.head()"
   ]
  },
  {
   "cell_type": "code",
   "execution_count": 14,
   "id": "d860b192",
   "metadata": {},
   "outputs": [
    {
     "name": "stderr",
     "output_type": "stream",
     "text": [
      "I0000 00:00:1749780714.503090    6210 gpu_device.cc:2019] Created device /job:localhost/replica:0/task:0/device:GPU:0 with 4599 MB memory:  -> device: 0, name: NVIDIA GeForce RTX 2060, pci bus id: 0000:01:00.0, compute capability: 7.5\n"
     ]
    }
   ],
   "source": [
    "# DeBERTaV3 preprocessor\n",
    "preprocessor = DebertaV3Preprocessor.from_preset(\n",
    "    preset=\"deberta_v3_extra_small_en\",\n",
    "    sequence_length=30 # average length of reviews\n",
    ")"
   ]
  },
  {
   "cell_type": "code",
   "execution_count": 15,
   "id": "21e1081d",
   "metadata": {},
   "outputs": [],
   "source": [
    "def preprocess_fn(text, label):\n",
    "    tokens = preprocessor(text)\n",
    "    return {\n",
    "        \"token_ids\": tokens[\"token_ids\"],\n",
    "        \"padding_mask\": tokens[\"padding_mask\"]\n",
    "    }, label\n"
   ]
  },
  {
   "cell_type": "markdown",
   "id": "a365aea5",
   "metadata": {
    "papermill": {
     "duration": 0.023262,
     "end_time": "2024-08-01T05:26:18.454879",
     "exception": false,
     "start_time": "2024-08-01T05:26:18.431617",
     "status": "completed"
    },
    "tags": []
   },
   "source": [
    "# Train-Validation-Test split"
   ]
  },
  {
   "cell_type": "code",
   "execution_count": 16,
   "id": "0bef0c11",
   "metadata": {
    "execution": {
     "iopub.execute_input": "2024-08-01T05:26:18.503312Z",
     "iopub.status.busy": "2024-08-01T05:26:18.503011Z",
     "iopub.status.idle": "2024-08-01T05:26:18.523640Z",
     "shell.execute_reply": "2024-08-01T05:26:18.522929Z"
    },
    "papermill": {
     "duration": 0.047223,
     "end_time": "2024-08-01T05:26:18.525552",
     "exception": false,
     "start_time": "2024-08-01T05:26:18.478329",
     "status": "completed"
    },
    "tags": []
   },
   "outputs": [],
   "source": [
    "X_train, X_valid, y_train, y_valid = train_test_split(df['content'],\n",
    "                                                      df['sentiment'],\n",
    "                                                      test_size=0.1,\n",
    "                                                      random_state=101)\n",
    "\n",
    "X_valid, X_test, y_valid, y_test = train_test_split(X_valid,\n",
    "                                                    y_valid,\n",
    "                                                    test_size=0.5,\n",
    "                                                    random_state=101)"
   ]
  },
  {
   "cell_type": "markdown",
   "id": "97e17578",
   "metadata": {
    "papermill": {
     "duration": 0.023421,
     "end_time": "2024-08-01T05:26:18.614220",
     "exception": false,
     "start_time": "2024-08-01T05:26:18.590799",
     "status": "completed"
    },
    "tags": []
   },
   "source": [
    "# Building tensorflow dataset"
   ]
  },
  {
   "cell_type": "code",
   "execution_count": 17,
   "id": "08d474e2",
   "metadata": {
    "execution": {
     "iopub.execute_input": "2024-08-01T05:26:18.664411Z",
     "iopub.status.busy": "2024-08-01T05:26:18.663284Z",
     "iopub.status.idle": "2024-08-01T05:26:18.670423Z",
     "shell.execute_reply": "2024-08-01T05:26:18.669501Z"
    },
    "papermill": {
     "duration": 0.034408,
     "end_time": "2024-08-01T05:26:18.672586",
     "exception": false,
     "start_time": "2024-08-01T05:26:18.638178",
     "status": "completed"
    },
    "tags": []
   },
   "outputs": [],
   "source": [
    "def build_tf_dataset(features, labels, BATCH_SIZE):\n",
    "    AUTO = tf.data.AUTOTUNE\n",
    "    options = tf.data.Options()\n",
    "    options.experimental_deterministic = False\n",
    "\n",
    "    reviews = tf.convert_to_tensor(features.tolist(), dtype=tf.string)\n",
    "    sentiments = tf.convert_to_tensor(labels.tolist(), dtype=tf.int32)\n",
    "\n",
    "    dataset = tf.data.Dataset.from_tensor_slices((reviews, sentiments))\n",
    "    dataset = dataset.map(preprocess_fn, num_parallel_calls=AUTO)\n",
    "    dataset = dataset.shuffle(1024, seed=101)\n",
    "    dataset = dataset.with_options(options)\n",
    "    dataset = dataset.batch(BATCH_SIZE).prefetch(AUTO)\n",
    "\n",
    "    return dataset\n"
   ]
  },
  {
   "cell_type": "code",
   "execution_count": 18,
   "id": "61766992",
   "metadata": {
    "execution": {
     "iopub.execute_input": "2024-08-01T05:26:18.722562Z",
     "iopub.status.busy": "2024-08-01T05:26:18.722243Z",
     "iopub.status.idle": "2024-08-01T05:26:21.934076Z",
     "shell.execute_reply": "2024-08-01T05:26:21.933300Z"
    },
    "papermill": {
     "duration": 3.239456,
     "end_time": "2024-08-01T05:26:21.936339",
     "exception": false,
     "start_time": "2024-08-01T05:26:18.696883",
     "status": "completed"
    },
    "tags": []
   },
   "outputs": [
    {
     "name": "stderr",
     "output_type": "stream",
     "text": [
      "2025-06-13 09:11:56.187624: W external/local_xla/xla/service/gpu/llvm_gpu_backend/default/nvptx_libdevice_path.cc:40] Can't find libdevice directory ${CUDA_DIR}/nvvm/libdevice. This may result in compilation or runtime failures, if the program we try to run uses routines from libdevice.\n",
      "Searched for CUDA in the following directories:\n",
      "  ./cuda_sdk_lib\n",
      "  ipykernel_launcher.runfiles/cuda_nvcc\n",
      "  ipykern/cuda_nvcc\n",
      "  \n",
      "  /usr/local/cuda\n",
      "  /opt/cuda\n",
      "  /home/barun/mundi/ml/fp/.venv/lib/python3.12/site-packages/tensorflow/python/platform/../../../nvidia/cuda_nvcc\n",
      "  /home/barun/mundi/ml/fp/.venv/lib/python3.12/site-packages/tensorflow/python/platform/../../../../nvidia/cuda_nvcc\n",
      "  /home/barun/mundi/ml/fp/.venv/lib/python3.12/site-packages/tensorflow/python/platform/../../cuda\n",
      "  /home/barun/mundi/ml/fp/.venv/lib/python3.12/site-packages/tensorflow/python/platform/../../../../../..\n",
      "  /home/barun/mundi/ml/fp/.venv/lib/python3.12/site-packages/tensorflow/python/platform/../../../../../../..\n",
      "  .\n",
      "You can choose the search directory by setting xla_gpu_cuda_data_dir in HloModule's DebugOptions.  For most apps, setting the environment variable XLA_FLAGS=--xla_gpu_cuda_data_dir=/path/to/cuda will work.\n"
     ]
    }
   ],
   "source": [
    "BATCH_SIZE = 4\n",
    "\n",
    "train_dataset = build_tf_dataset(X_train, y_train, BATCH_SIZE)\n",
    "valid_dataset = build_tf_dataset(X_valid, y_valid, BATCH_SIZE)\n",
    "test_dataset = build_tf_dataset(X_test, y_test, BATCH_SIZE)"
   ]
  },
  {
   "cell_type": "code",
   "execution_count": 19,
   "id": "396aaa68",
   "metadata": {},
   "outputs": [
    {
     "name": "stdout",
     "output_type": "stream",
     "text": [
      "Keys: dict_keys(['token_ids', 'padding_mask'])\n",
      "token_ids shape: (4, 30)\n",
      "padding_mask shape: (4, 30)\n",
      "Labels shape: (4,)\n"
     ]
    },
    {
     "name": "stderr",
     "output_type": "stream",
     "text": [
      "2025-06-13 09:11:58.985019: I tensorflow/core/framework/local_rendezvous.cc:407] Local rendezvous is aborting with status: OUT_OF_RANGE: End of sequence\n"
     ]
    }
   ],
   "source": [
    "for batch in train_dataset.take(1):\n",
    "    x, y = batch\n",
    "    print(\"Keys:\", x.keys())  # Should print: dict_keys(['token_ids', 'padding_mask'])\n",
    "    print(\"token_ids shape:\", x['token_ids'].shape)  # (batch_size, 30)\n",
    "    print(\"padding_mask shape:\", x['padding_mask'].shape)  # (batch_size, 30)\n",
    "    print(\"Labels shape:\", y.shape)  # (batch_size,)\n"
   ]
  },
  {
   "cell_type": "markdown",
   "id": "1f80c916",
   "metadata": {
    "papermill": {
     "duration": 0.024433,
     "end_time": "2024-08-01T05:26:21.985895",
     "exception": false,
     "start_time": "2024-08-01T05:26:21.961462",
     "status": "completed"
    },
    "tags": []
   },
   "source": [
    "# Modelling"
   ]
  },
  {
   "cell_type": "code",
   "execution_count": null,
   "id": "c4c4c4fc",
   "metadata": {},
   "outputs": [],
   "source": [
    "# Prepare CSV logging\n",
    "log_filename = 'bert_models_tuning/bert_fine_tuning_result.csv'\n",
    "fieldnames = ['run_id', 'optimizer', 'learning_rate', 'batch_size', 'activation',\n",
    "              'val_accuracy', 'val_loss', 'train_time_sec']\n",
    "os.makedirs('bert_models_tuning', exist_ok=True)"
   ]
  },
  {
   "cell_type": "code",
   "execution_count": 21,
   "id": "e83fa3a3",
   "metadata": {},
   "outputs": [],
   "source": [
    "# Early stopping\n",
    "earlystopping = tf.keras.callbacks.EarlyStopping(\n",
    "    monitor='val_loss',\n",
    "    patience=2,\n",
    "    mode='min',\n",
    "    min_delta=0.01,\n",
    "    verbose=1,\n",
    "    restore_best_weights=True\n",
    ")"
   ]
  },
  {
   "cell_type": "code",
   "execution_count": null,
   "id": "7668c7af",
   "metadata": {},
   "outputs": [],
   "source": [
    "def run_training(opt, lr, act, run_id):\n",
    "    with open(log_filename, mode='a', newline='') as log_file:\n",
    "        writer = csv.DictWriter(log_file, fieldnames=fieldnames)\n",
    "\n",
    "        run_id = run_id\n",
    "        print(f\"\\n🔧 Run {run_id}: Optimizer={opt}, LR={lr}, Activation={act}\")\n",
    "\n",
    "        # Initialize model\n",
    "        classifier = DebertaV3Classifier.from_preset(\n",
    "            \"deberta_v3_extra_small_en\",\n",
    "            preprocessor=None,\n",
    "            activation=act,\n",
    "            num_classes=3\n",
    "        )\n",
    "\n",
    "        # Optimizer\n",
    "        optimizer_class = tf.keras.optimizers.AdamW if opt == 'adamw' else tf.keras.optimizers.Adam\n",
    "\n",
    "        # Compile\n",
    "        classifier.compile(\n",
    "            optimizer=optimizer_class(learning_rate=lr),\n",
    "            loss=tf.keras.losses.SparseCategoricalCrossentropy(),\n",
    "            metrics=['accuracy']\n",
    "        )\n",
    "\n",
    "        # Train\n",
    "        start_time = time.time()\n",
    "        history = classifier.fit(\n",
    "            train_dataset,\n",
    "            validation_data=valid_dataset,\n",
    "            epochs=num_epochs,\n",
    "            callbacks=[earlystopping],\n",
    "            verbose=2\n",
    "        )\n",
    "        end_time = time.time()\n",
    "        duration = end_time - start_time\n",
    "\n",
    "        # Metrics\n",
    "        val_accuracy = max(history.history['val_accuracy'], default=None)\n",
    "        val_loss = min(history.history['val_loss'], default=None)\n",
    "\n",
    "        # Save model\n",
    "        model_path = f'bert_models_tuning/run_{run_id}_valacc_{val_accuracy:.4f}.keras'\n",
    "        classifier.save(model_path)\n",
    "\n",
    "        # Log results\n",
    "        writer.writerow({\n",
    "            'run_id': run_id,\n",
    "            'optimizer': opt,\n",
    "            'learning_rate': lr,\n",
    "            'activation': act,\n",
    "            'val_accuracy': val_accuracy,\n",
    "            'val_loss': val_loss,\n",
    "            'train_time_sec': round(duration, 2)\n",
    "        })\n",
    "        log_file.flush()\n",
    "        keras.backend.clear_session()"
   ]
  },
  {
   "cell_type": "code",
   "execution_count": 23,
   "id": "99924283",
   "metadata": {},
   "outputs": [],
   "source": [
    "# Define hyperparameter search space\n",
    "learning_rates = [5e-5, 3e-5, 1e-5]\n",
    "optimizers = ['adamw', 'adam']\n",
    "activations = ['softmax']\n",
    "num_epochs = 5"
   ]
  },
  {
   "cell_type": "code",
   "execution_count": 24,
   "id": "6f8a72f4",
   "metadata": {},
   "outputs": [],
   "source": [
    "#run_training(optimizers[0], learning_rates[0], activations[0], 1)"
   ]
  },
  {
   "cell_type": "code",
   "execution_count": 25,
   "id": "f54408ef",
   "metadata": {},
   "outputs": [],
   "source": [
    "#run_training(optimizers[1], learning_rates[0], activations[0], 2)"
   ]
  },
  {
   "cell_type": "code",
   "execution_count": 26,
   "id": "f5db0522",
   "metadata": {},
   "outputs": [],
   "source": [
    "#run_training(optimizers[0], learning_rates[1], activations[0], 3)"
   ]
  },
  {
   "cell_type": "code",
   "execution_count": 27,
   "id": "1a5fd656",
   "metadata": {},
   "outputs": [],
   "source": [
    "#run_training(optimizers[1], learning_rates[1], activations[0], 4)"
   ]
  },
  {
   "cell_type": "code",
   "execution_count": 28,
   "id": "5999d4a0",
   "metadata": {},
   "outputs": [],
   "source": [
    "#run_training(optimizers[0], learning_rates[2], activations[0], 5)"
   ]
  },
  {
   "cell_type": "code",
   "execution_count": 29,
   "id": "bb3e53ac",
   "metadata": {},
   "outputs": [
    {
     "name": "stdout",
     "output_type": "stream",
     "text": [
      "\n",
      "🔧 Run 6: Optimizer=adam, LR=1e-05, Activation=softmax\n",
      "Epoch 1/5\n"
     ]
    },
    {
     "name": "stderr",
     "output_type": "stream",
     "text": [
      "WARNING: All log messages before absl::InitializeLog() is called are written to STDERR\n",
      "I0000 00:00:1749780771.830344    7178 service.cc:152] XLA service 0x7665b401cae0 initialized for platform CUDA (this does not guarantee that XLA will be used). Devices:\n",
      "I0000 00:00:1749780771.830361    7178 service.cc:160]   StreamExecutor device (0): NVIDIA GeForce RTX 2060, Compute Capability 7.5\n",
      "2025-06-13 09:12:54.443584: I tensorflow/compiler/mlir/tensorflow/utils/dump_mlir_util.cc:269] disabling MLIR crash reproducer, set env var `MLIR_CRASH_REPRODUCER_DIRECTORY` to enable.\n",
      "I0000 00:00:1749780783.326385    7178 cuda_dnn.cc:529] Loaded cuDNN version 90501\n",
      "I0000 00:00:1749780833.524756    7178 device_compiler.h:188] Compiled cluster using XLA!  This line is logged at most once for the lifetime of the process.\n",
      "2025-06-13 09:32:56.445687: I external/local_xla/xla/stream_executor/cuda/subprocess_compilation.cc:346] ptxas warning : Registers are spilled to local memory in function 'loop_add_select_fusion', 28 bytes spill stores, 28 bytes spill loads\n",
      "\n"
     ]
    },
    {
     "name": "stdout",
     "output_type": "stream",
     "text": [
      "31016/31016 - 1281s - 41ms/step - accuracy: 0.8143 - loss: 0.5140 - val_accuracy: 0.8284 - val_loss: 0.4731\n",
      "Epoch 2/5\n",
      "31016/31016 - 1171s - 38ms/step - accuracy: 0.8325 - loss: 0.4620 - val_accuracy: 0.8281 - val_loss: 0.4860\n",
      "Epoch 3/5\n",
      "31016/31016 - 1123s - 36ms/step - accuracy: 0.8432 - loss: 0.4295 - val_accuracy: 0.8304 - val_loss: 0.4669\n",
      "Epoch 3: early stopping\n",
      "Restoring model weights from the end of the best epoch: 1.\n"
     ]
    }
   ],
   "source": [
    "run_training(optimizers[1], learning_rates[2], activations[0], 6)"
   ]
  },
  {
   "cell_type": "code",
   "execution_count": null,
   "id": "a41fbd65",
   "metadata": {
    "execution": {
     "iopub.execute_input": "2024-08-01T05:45:02.176566Z",
     "iopub.status.busy": "2024-08-01T05:45:02.176189Z",
     "iopub.status.idle": "2024-08-01T05:45:02.777033Z",
     "shell.execute_reply": "2024-08-01T05:45:02.776105Z"
    },
    "papermill": {
     "duration": 0.825157,
     "end_time": "2024-08-01T05:45:02.779250",
     "exception": false,
     "start_time": "2024-08-01T05:45:01.954093",
     "status": "completed"
    },
    "tags": []
   },
   "outputs": [
    {
     "data": {
      "image/png": "[encoded data removed]",
      "text/plain": [
       "<Figure size 2400x800 with 2 Axes>"
      ]
     },
     "metadata": {},
     "output_type": "display_data"
    }
   ],
   "source": [
    "plt.figure(figsize=(12, 4), dpi=200)\n",
    "# Plot loss\n",
    "plt.subplot(1, 2, 1)\n",
    "plt.plot(history.history['loss'], label='train_loss')\n",
    "plt.plot(history.history['val_loss'], label='val_loss')\n",
    "plt.ylim(0, 0.5)\n",
    "plt.yticks([i * 0.1 for i in range(6)])\n",
    "plt.xlabel('Epoch')\n",
    "plt.ylabel('Loss')\n",
    "plt.legend()\n",
    "plt.title('Loss over Epochs')\n",
    "\n",
    "# Plot accuracy\n",
    "plt.subplot(1, 2, 2)\n",
    "plt.plot(history.history['accuracy'], label='training accuracy')\n",
    "plt.plot(history.history['val_accuracy'], label='validation accuracy')\n",
    "plt.ylim(0.8, 1)\n",
    "plt.xlabel('Epoch')\n",
    "plt.ylabel('accuracy')\n",
    "plt.legend()\n",
    "plt.title('Accuracy over Epochs')\n",
    "\n",
    "plt.show();"
   ]
  },
  {
   "cell_type": "markdown",
   "id": "f3e2c8fe",
   "metadata": {
    "papermill": {
     "duration": 0.222127,
     "end_time": "2024-08-01T05:45:03.223888",
     "exception": false,
     "start_time": "2024-08-01T05:45:03.001761",
     "status": "completed"
    },
    "tags": []
   },
   "source": [
    "# Model evaluation"
   ]
  },
  {
   "cell_type": "code",
   "execution_count": null,
   "id": "1c0664bd",
   "metadata": {
    "execution": {
     "iopub.execute_input": "2024-08-01T05:45:03.670912Z",
     "iopub.status.busy": "2024-08-01T05:45:03.670532Z",
     "iopub.status.idle": "2024-08-01T05:45:11.326283Z",
     "shell.execute_reply": "2024-08-01T05:45:11.325245Z"
    },
    "papermill": {
     "duration": 7.881579,
     "end_time": "2024-08-01T05:45:11.328353",
     "exception": false,
     "start_time": "2024-08-01T05:45:03.446774",
     "status": "completed"
    },
    "tags": []
   },
   "outputs": [
    {
     "name": "stdout",
     "output_type": "stream",
     "text": [
      "\u001b[1m45/45\u001b[0m \u001b[32m━━━━━━━━━━━━━━━━━━━━\u001b[0m\u001b[37m\u001b[0m \u001b[1m8s\u001b[0m 114ms/step - accuracy: 0.8611 - loss: 0.3379\n",
      "The model loss on the test dataset is 0.3394.\n",
      "The model accuracy on the test dataset is 85.83%.\n"
     ]
    }
   ],
   "source": [
    "test_loss, test_accuracy = classifier.evaluate(test_dataset)\n",
    "print(f\"The model loss on the test dataset is {round(test_loss, 4)}.\")\n",
    "print(f\"The model accuracy on the test dataset is {round(test_accuracy, 4)*100}%.\")"
   ]
  }
 ],
 "metadata": {
  "accelerator": "GPU",
  "colab": {
   "gpuType": "T4",
   "provenance": []
  },
  "kaggle": {
   "accelerator": "gpu",
   "dataSources": [
    {
     "databundleVersionId": 9250014,
     "datasetId": 4981370,
     "sourceId": 9077194,
     "sourceType": "datasetVersion"
    },
    {
     "databundleVersionId": 7429216,
     "modelInstanceId": 4684,
     "sourceId": 6063,
     "sourceType": "modelInstanceVersion"
    }
   ],
   "dockerImageVersionId": 30732,
   "isGpuEnabled": true,
   "isInternetEnabled": true,
   "language": "python",
   "sourceType": "notebook"
  },
  "kernelspec": {
   "display_name": ".venv",
   "language": "python",
   "name": "python3"
  },
  "language_info": {
   "codemirror_mode": {
    "name": "ipython",
    "version": 3
   },
   "file_extension": ".py",
   "mimetype": "text/x-python",
   "name": "python",
   "nbconvert_exporter": "python",
   "pygments_lexer": "ipython3",
   "version": "3.12.3"
  },
  "papermill": {
   "default_parameters": {},
   "duration": 1172.72713,
   "end_time": "2024-08-01T05:45:15.068707",
   "environment_variables": {},
   "exception": null,
   "input_path": "__notebook__.ipynb",
   "output_path": "__notebook__.ipynb",
   "parameters": {},
   "start_time": "2024-08-01T05:25:42.341577",
   "version": "2.5.0"
  }
 },
 "nbformat": 4,
 "nbformat_minor": 5
}
